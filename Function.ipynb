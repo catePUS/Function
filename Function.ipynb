{
 "cells": [
  {
   "cell_type": "code",
   "execution_count": 273,
   "metadata": {},
   "outputs": [
    {
     "name": "stdout",
     "output_type": "stream",
     "text": [
      "Введите команду: ds\n",
      "Введите номер полки: 10\n",
      "Такой полки не существует. Текущий перечень полок: 1, 2, 3\n",
      "Введите команду: q\n",
      "До свидания\n"
     ]
    }
   ],
   "source": [
    "documents = [\n",
    " {'type': 'passport', 'number': '2207 876234', 'name': 'Василий Гупкин'},\n",
    " {'type': 'invoice', 'number': '11-2', 'name': 'Геннадий Покемонов'},\n",
    " {'type': 'insurance', 'number': '10006', 'name': 'Аристарх Павлов'}\n",
    "]\n",
    "directories = {\n",
    " '1': ['2207 876234', '11-2'],\n",
    " '2': ['10006'],\n",
    " '3': []\n",
    "}\n",
    "\n",
    "def shelfs_1(direct, numbers):\n",
    "    for key, value in direct.items():\n",
    "        if numbers in value:\n",
    "            return key\n",
    "\n",
    "def printAll(documents, directories):\n",
    "    for item in documents:\n",
    "        print ('№: '+ item['number']+', '+'тип: '+item['type']+', '+'владелец: '+item['name']+', '+'полка хранения: ' + shelfs_1(directories, item['number']))\n",
    "\n",
    "def shelfs(direct, numbers):\n",
    "    number_shelf = shelfs_1(direct, numbers)\n",
    "    if number_shelf is not None:\n",
    "        return 'Документ хранится на полке: ' + number_shelf\n",
    "    return 'Документ не найден в базе'\n",
    "\n",
    "def ident_doc(users, numbers):\n",
    "    for numb in users:\n",
    "        if numb['number']==numbers:\n",
    "            return 'Владелец документа: ' + numb['name']\n",
    "    return 'Документ не найден в базе'\n",
    "\n",
    "def search(direct,searh_shelf):\n",
    "    if str(searh_shelf) in direct.keys():\n",
    "        return 'Такая полка уже существует. Текущий перечень полок: ' + ', '.join(direct.keys())\n",
    "    direct[str(searh_shelf)]=[]\n",
    "    return 'Полка добавлена. Текущий перечень полок: ' + ', '.join(direct.keys())\n",
    "\n",
    "def key_def_1(direct,searh_shelf):\n",
    "    if str(searh_shelf) in direct and direct[str(searh_shelf)]!=[]:\n",
    "        return 'На полке есть документа, удалите их перед удалением полки. Текущий перечень полок: ' + ', '.join(direct.keys())\n",
    "    if str(searh_shelf) not in direct:\n",
    "        return 'Такой полки не существует. Текущий перечень полок: ' + ', '.join(direct.keys())                                                                                                         \n",
    "    del direct[str(searh_shelf)]\n",
    "    return 'Полка удалена. Текущий перечень полок: ' + ', '.join(direct.keys())\n",
    "\n",
    "def main(documents,directories):\n",
    "    while True:\n",
    "        user_com = input('Введите команду: ')\n",
    "        if user_com == 'p':\n",
    "            numbers = input('Введите номер документа: ')\n",
    "            print(ident_doc(documents,numbers))\n",
    "        elif user_com == 's':\n",
    "            numbers = input('Введите номер документа: ')\n",
    "            print(shelfs(directories, numbers))\n",
    "        elif user_com == 'l':\n",
    "            printAll(documents, directories)\n",
    "        elif user_com == 'ads':\n",
    "            searh_shelf = input('Введите номер полки: ')\n",
    "            print(search(directories, searh_shelf))\n",
    "        elif user_com == 'ds':\n",
    "            searh_shelf = input('Введите номер полки: ')\n",
    "            print(key_def_1(directories,searh_shelf))\n",
    "        elif user_com == 'q':\n",
    "            print('До свидания')\n",
    "            break\n",
    "\n",
    "main(documents,directories)      "
   ]
  },
  {
   "cell_type": "code",
   "execution_count": null,
   "metadata": {},
   "outputs": [],
   "source": []
  },
  {
   "cell_type": "code",
   "execution_count": null,
   "metadata": {},
   "outputs": [],
   "source": []
  }
 ],
 "metadata": {
  "kernelspec": {
   "display_name": "Python 3",
   "language": "python",
   "name": "python3"
  },
  "language_info": {
   "codemirror_mode": {
    "name": "ipython",
    "version": 3
   },
   "file_extension": ".py",
   "mimetype": "text/x-python",
   "name": "python",
   "nbconvert_exporter": "python",
   "pygments_lexer": "ipython3",
   "version": "3.8.5"
  }
 },
 "nbformat": 4,
 "nbformat_minor": 4
}
